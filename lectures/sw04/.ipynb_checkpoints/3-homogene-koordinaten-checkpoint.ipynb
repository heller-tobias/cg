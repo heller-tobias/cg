{
 "cells": [
  {
   "cell_type": "markdown",
   "id": "7137461d",
   "metadata": {},
   "source": [
    "## Bibliotheken importieren"
   ]
  },
  {
   "cell_type": "code",
   "execution_count": 1,
   "id": "c04f9f53",
   "metadata": {},
   "outputs": [],
   "source": [
    "import numpy as np"
   ]
  },
  {
   "cell_type": "code",
   "execution_count": 2,
   "id": "d0188084",
   "metadata": {},
   "outputs": [],
   "source": [
    "import matplotlib.pyplot as pl"
   ]
  },
  {
   "cell_type": "markdown",
   "id": "d00fd8e3",
   "metadata": {},
   "source": [
    "## Umriss des Buchstabens F"
   ]
  },
  {
   "cell_type": "markdown",
   "id": "f6739065",
   "metadata": {},
   "source": [
    "### Eckpunkte"
   ]
  },
  {
   "cell_type": "code",
   "execution_count": 3,
   "id": "b6fdecff",
   "metadata": {},
   "outputs": [],
   "source": [
    "X = np.array ([0, 1, 1, 2, 2, 1, 1, 3, 3, 0, 0])\n",
    "Y = np.array ([0, 0, 1, 1, 2, 2, 3, 3, 4, 4, 0])"
   ]
  },
  {
   "cell_type": "markdown",
   "id": "264d22a2",
   "metadata": {},
   "source": [
    "### Zeichnen"
   ]
  },
  {
   "cell_type": "code",
   "execution_count": 4,
   "id": "dfcb42a8",
   "metadata": {},
   "outputs": [
    {
     "data": {
      "text/plain": [
       "[<matplotlib.lines.Line2D at 0x24e89d1eee0>]"
      ]
     },
     "execution_count": 4,
     "metadata": {},
     "output_type": "execute_result"
    },
    {
     "data": {
      "image/png": "[encoded data removed]",
      "text/plain": [
       "<Figure size 432x288 with 1 Axes>"
      ]
     },
     "metadata": {
      "needs_background": "light"
     },
     "output_type": "display_data"
    }
   ],
   "source": [
    "pl.plot (X, Y)"
   ]
  },
  {
   "cell_type": "markdown",
   "id": "0298a619",
   "metadata": {},
   "source": [
    "### Zeichnen mit gleichem Massstab auf beiden Achsen"
   ]
  },
  {
   "cell_type": "code",
   "execution_count": 5,
   "id": "77458e6c",
   "metadata": {},
   "outputs": [
    {
     "data": {
      "text/plain": [
       "(-0.15000000000000002, 3.15, -0.2, 4.2)"
      ]
     },
     "execution_count": 5,
     "metadata": {},
     "output_type": "execute_result"
    },
    {
     "data": {
      "image/png": "[encoded data removed]",
      "text/plain": [
       "<Figure size 432x288 with 1 Axes>"
      ]
     },
     "metadata": {
      "needs_background": "light"
     },
     "output_type": "display_data"
    }
   ],
   "source": [
    "pl.plot (X, Y)\n",
    "pl.axis ('scaled')"
   ]
  },
  {
   "cell_type": "markdown",
   "id": "4cf5802b",
   "metadata": {},
   "source": [
    "### Eckpunkte als Matrix"
   ]
  },
  {
   "cell_type": "code",
   "execution_count": 6,
   "id": "c4f0790b",
   "metadata": {},
   "outputs": [
    {
     "data": {
      "text/plain": [
       "array([[0, 1, 1, 2, 2, 1, 1, 3, 3, 0, 0],\n",
       "       [0, 0, 1, 1, 2, 2, 3, 3, 4, 4, 0]])"
      ]
     },
     "execution_count": 6,
     "metadata": {},
     "output_type": "execute_result"
    }
   ],
   "source": [
    "P = np.stack ((X, Y))\n",
    "P"
   ]
  },
  {
   "cell_type": "markdown",
   "id": "a2aeba06",
   "metadata": {},
   "source": [
    "### Den Buchstaben transformieren"
   ]
  },
  {
   "cell_type": "markdown",
   "id": "dce64703",
   "metadata": {},
   "source": [
    "#### Transformation definieren"
   ]
  },
  {
   "cell_type": "code",
   "execution_count": 7,
   "id": "21029b20",
   "metadata": {},
   "outputs": [
    {
     "data": {
      "text/plain": [
       "array([[ 1, -1],\n",
       "       [ 1,  1]])"
      ]
     },
     "execution_count": 7,
     "metadata": {},
     "output_type": "execute_result"
    }
   ],
   "source": [
    "A = np.array ([[1, -1], [1, 1]]) \n",
    "A"
   ]
  },
  {
   "cell_type": "markdown",
   "id": "e8aa544a",
   "metadata": {},
   "source": [
    "#### und anwenden"
   ]
  },
  {
   "cell_type": "code",
   "execution_count": 8,
   "id": "5b9ae2ab",
   "metadata": {},
   "outputs": [
    {
     "data": {
      "text/plain": [
       "array([[ 0,  1,  0,  1,  0, -1, -2,  0, -1, -4,  0],\n",
       "       [ 0,  1,  2,  3,  4,  3,  4,  6,  7,  4,  0]])"
      ]
     },
     "execution_count": 8,
     "metadata": {},
     "output_type": "execute_result"
    }
   ],
   "source": [
    "Q = A @ P\n",
    "Q"
   ]
  },
  {
   "cell_type": "markdown",
   "id": "450c29f6",
   "metadata": {},
   "source": [
    "#### Urbild und Bild zeichnen"
   ]
  },
  {
   "cell_type": "code",
   "execution_count": 9,
   "id": "6da18d0c",
   "metadata": {},
   "outputs": [
    {
     "data": {
      "image/png": "[encoded data removed]",
      "text/plain": [
       "<Figure size 432x288 with 1 Axes>"
      ]
     },
     "metadata": {
      "needs_background": "light"
     },
     "output_type": "display_data"
    }
   ],
   "source": [
    "pl.plot (P [0], P [1], 'b')\n",
    "pl.plot (Q [0], Q [1], 'r')\n",
    "pl.axis ('scaled')\n",
    "pl.xlim ([-5, 5])\n",
    "pl.ylim ([-1, 10])\n",
    "pl.grid ()"
   ]
  },
  {
   "cell_type": "markdown",
   "id": "ddd730f3",
   "metadata": {},
   "source": [
    "## Zeichenroutinen definieren"
   ]
  },
  {
   "cell_type": "code",
   "execution_count": 10,
   "id": "dfffaa1d",
   "metadata": {},
   "outputs": [],
   "source": [
    "def Range (p, margin):\n",
    "    mini = min (p)\n",
    "    maxi = max (p)\n",
    "    return [mini - margin, maxi + margin]\n",
    "\n",
    "def Plot (p, q):\n",
    "    tab = np.concatenate ((p, q), axis = 1)\n",
    "    margin = 1\n",
    "    \n",
    "    pl.plot (p [0], p [1], 'b')\n",
    "    pl.plot (q [0], q [1], 'r')\n",
    "    pl.axis ('scaled')\n",
    "    pl.xlim (Range (tab [0], margin))\n",
    "    pl.ylim (Range (tab [1], margin))\n",
    "    pl.grid()"
   ]
  },
  {
   "cell_type": "markdown",
   "id": "a69d9ac1",
   "metadata": {},
   "source": [
    "## Verschiedene Transformationen"
   ]
  },
  {
   "cell_type": "markdown",
   "id": "4118e519",
   "metadata": {},
   "source": [
    "### Rotation um 45°"
   ]
  },
  {
   "cell_type": "code",
   "execution_count": 11,
   "id": "33a55615",
   "metadata": {},
   "outputs": [
    {
     "data": {
      "image/png": "[encoded data removed]",
      "text/plain": [
       "<Figure size 432x288 with 1 Axes>"
      ]
     },
     "metadata": {
      "needs_background": "light"
     },
     "output_type": "display_data"
    }
   ],
   "source": [
    "R = np.array ([[1, -1], [1, 1]]) / np.sqrt (2)\n",
    "Q = R @ P\n",
    "Plot (P, Q)"
   ]
  },
  {
   "cell_type": "markdown",
   "id": "756e9f95",
   "metadata": {},
   "source": [
    "### Translation"
   ]
  },
  {
   "cell_type": "code",
   "execution_count": 12,
   "id": "84a0b030",
   "metadata": {},
   "outputs": [
    {
     "data": {
      "image/png": "[encoded data removed]",
      "text/plain": [
       "<Figure size 432x288 with 1 Axes>"
      ]
     },
     "metadata": {
      "needs_background": "light"
     },
     "output_type": "display_data"
    }
   ],
   "source": [
    "T = np.array ([[5], [3]])\n",
    "Q = P + T\n",
    "Plot (P, Q)"
   ]
  },
  {
   "cell_type": "markdown",
   "id": "8f696876",
   "metadata": {},
   "source": [
    "### Rotation und Translation kombinieren"
   ]
  },
  {
   "cell_type": "code",
   "execution_count": 13,
   "id": "12293c89",
   "metadata": {},
   "outputs": [
    {
     "data": {
      "image/png": "[encoded data removed]",
      "text/plain": [
       "<Figure size 432x288 with 2 Axes>"
      ]
     },
     "metadata": {
      "needs_background": "light"
     },
     "output_type": "display_data"
    }
   ],
   "source": [
    "pl.subplot (1, 2, 1); Plot (P, A @ P + T)\n",
    "pl.subplot (1, 2, 2); Plot (P, A @ (P + T))"
   ]
  },
  {
   "cell_type": "markdown",
   "id": "b0b15300",
   "metadata": {},
   "source": [
    "Die Kombination von Transformationen (Matrixmultiplikation) ist nicht Kommutativ!"
   ]
  },
  {
   "cell_type": "markdown",
   "id": "714f3e13",
   "metadata": {},
   "source": [
    "## Homogene Koordinaten"
   ]
  },
  {
   "cell_type": "code",
   "execution_count": 14,
   "id": "c95da4e7",
   "metadata": {},
   "outputs": [
    {
     "data": {
      "text/plain": [
       "array([[0, 1, 1, 2, 2, 1, 1, 3, 3, 0, 0],\n",
       "       [0, 0, 1, 1, 2, 2, 3, 3, 4, 4, 0],\n",
       "       [1, 1, 1, 1, 1, 1, 1, 1, 1, 1, 1]])"
      ]
     },
     "execution_count": 14,
     "metadata": {},
     "output_type": "execute_result"
    }
   ],
   "source": [
    "P = np.stack ((X, Y, X - X + 1))\n",
    "P"
   ]
  },
  {
   "cell_type": "markdown",
   "id": "3ff30560",
   "metadata": {},
   "source": [
    "### Rotation in homogenen Koordinaten"
   ]
  },
  {
   "cell_type": "code",
   "execution_count": 15,
   "id": "6d3a64ce",
   "metadata": {},
   "outputs": [
    {
     "data": {
      "text/plain": [
       "array([[ 0.8660254, -0.5      ,  0.       ],\n",
       "       [ 0.5      ,  0.8660254,  0.       ],\n",
       "       [ 0.       ,  0.       ,  1.       ]])"
      ]
     },
     "execution_count": 15,
     "metadata": {},
     "output_type": "execute_result"
    }
   ],
   "source": [
    "def Rot (phi):\n",
    "    t = phi * np.pi / 180\n",
    "    c = np.cos (t)\n",
    "    s = np.sin (t)\n",
    "    return np.array ([[c, -s, 0], [s, c, 0], [0, 0, 1]])\n",
    "\n",
    "Rot (30)"
   ]
  },
  {
   "cell_type": "markdown",
   "id": "fce1d4fd",
   "metadata": {},
   "source": [
    "### Translation in homogenen Koordinaten"
   ]
  },
  {
   "cell_type": "code",
   "execution_count": 16,
   "id": "49ecfc0c",
   "metadata": {},
   "outputs": [
    {
     "data": {
      "text/plain": [
       "array([[1, 0, 5],\n",
       "       [0, 1, 3],\n",
       "       [0, 0, 1]])"
      ]
     },
     "execution_count": 16,
     "metadata": {},
     "output_type": "execute_result"
    }
   ],
   "source": [
    "def Trans (x, y):\n",
    "    return np.array ([[1, 0, x], [0, 1, y], [0, 0, 1]])\n",
    "\n",
    "Trans (5, 3)"
   ]
  },
  {
   "cell_type": "markdown",
   "id": "4ca1df7d",
   "metadata": {},
   "source": [
    "### Zusammengesetzte Transformationen in homogenen Koordinaten"
   ]
  },
  {
   "cell_type": "code",
   "execution_count": 17,
   "id": "395720bc",
   "metadata": {},
   "outputs": [
    {
     "data": {
      "text/plain": [
       "array([[ 0.70710678, -0.70710678,  0.        ],\n",
       "       [ 0.70710678,  0.70710678,  0.        ],\n",
       "       [ 0.        ,  0.        ,  1.        ]])"
      ]
     },
     "execution_count": 17,
     "metadata": {},
     "output_type": "execute_result"
    }
   ],
   "source": [
    "R = Rot (45)\n",
    "R"
   ]
  },
  {
   "cell_type": "code",
   "execution_count": 18,
   "id": "f614a6c6",
   "metadata": {},
   "outputs": [
    {
     "data": {
      "text/plain": [
       "array([[1, 0, 5],\n",
       "       [0, 1, 3],\n",
       "       [0, 0, 1]])"
      ]
     },
     "execution_count": 18,
     "metadata": {},
     "output_type": "execute_result"
    }
   ],
   "source": [
    "T = Trans (5, 3)\n",
    "T"
   ]
  },
  {
   "cell_type": "code",
   "execution_count": 19,
   "id": "8d89bbef",
   "metadata": {},
   "outputs": [
    {
     "data": {
      "text/plain": [
       "array([[ 0.70710678, -0.70710678,  1.41421356],\n",
       "       [ 0.70710678,  0.70710678,  5.65685425],\n",
       "       [ 0.        ,  0.        ,  1.        ]])"
      ]
     },
     "execution_count": 19,
     "metadata": {},
     "output_type": "execute_result"
    }
   ],
   "source": [
    "A1 = R @ T\n",
    "A1"
   ]
  },
  {
   "cell_type": "code",
   "execution_count": 20,
   "id": "9660a227",
   "metadata": {},
   "outputs": [
    {
     "data": {
      "text/plain": [
       "array([[ 0.70710678, -0.70710678,  5.        ],\n",
       "       [ 0.70710678,  0.70710678,  3.        ],\n",
       "       [ 0.        ,  0.        ,  1.        ]])"
      ]
     },
     "execution_count": 20,
     "metadata": {},
     "output_type": "execute_result"
    }
   ],
   "source": [
    "A2 = T @ R\n",
    "A2"
   ]
  },
  {
   "cell_type": "code",
   "execution_count": 21,
   "id": "e22a2cc2",
   "metadata": {},
   "outputs": [
    {
     "name": "stdout",
     "output_type": "stream",
     "text": [
      "[[ 1.41421356e+00  2.12132034e+00  1.41421356e+00  2.12132034e+00\n",
      "   1.41421356e+00  7.07106781e-01 -4.44089210e-16  1.41421356e+00\n",
      "   7.07106781e-01 -1.41421356e+00  1.41421356e+00]\n",
      " [ 5.65685425e+00  6.36396103e+00  7.07106781e+00  7.77817459e+00\n",
      "   8.48528137e+00  7.77817459e+00  8.48528137e+00  9.89949494e+00\n",
      "   1.06066017e+01  8.48528137e+00  5.65685425e+00]\n",
      " [ 1.00000000e+00  1.00000000e+00  1.00000000e+00  1.00000000e+00\n",
      "   1.00000000e+00  1.00000000e+00  1.00000000e+00  1.00000000e+00\n",
      "   1.00000000e+00  1.00000000e+00  1.00000000e+00]]\n",
      "[[5.         5.70710678 5.         5.70710678 5.         4.29289322\n",
      "  3.58578644 5.         4.29289322 2.17157288 5.        ]\n",
      " [3.         3.70710678 4.41421356 5.12132034 5.82842712 5.12132034\n",
      "  5.82842712 7.24264069 7.94974747 5.82842712 3.        ]\n",
      " [1.         1.         1.         1.         1.         1.\n",
      "  1.         1.         1.         1.         1.        ]]\n"
     ]
    },
    {
     "data": {
      "image/png": "[encoded data removed]",
      "text/plain": [
       "<Figure size 432x288 with 2 Axes>"
      ]
     },
     "metadata": {
      "needs_background": "light"
     },
     "output_type": "display_data"
    }
   ],
   "source": [
    "Q1 = A1 @ P\n",
    "print (Q1)\n",
    "Q2 = A2 @ P\n",
    "print (Q2)\n",
    "pl.subplot (1, 2, 1); Plot (P, Q1)\n",
    "pl.subplot (1, 2, 2); Plot (P, Q2)"
   ]
  },
  {
   "cell_type": "markdown",
   "id": "e4e4e2fe",
   "metadata": {},
   "source": [
    "### Drehung um einen beliebigen Punkt"
   ]
  },
  {
   "cell_type": "code",
   "execution_count": 22,
   "id": "b8f7f0e1",
   "metadata": {},
   "outputs": [
    {
     "data": {
      "image/png": "[encoded data removed]",
      "text/plain": [
       "<Figure size 432x288 with 1 Axes>"
      ]
     },
     "metadata": {
      "needs_background": "light"
     },
     "output_type": "display_data"
    }
   ],
   "source": [
    "T1 = Trans (-1, -2)\n",
    "T2 = Trans (1, 2)\n",
    "R = Rot (30)\n",
    "Plot (P, T2 @ R @ T1 @ P)"
   ]
  },
  {
   "cell_type": "markdown",
   "id": "df696319",
   "metadata": {},
   "source": [
    "### Spiegelung in homogenen Koordinaten"
   ]
  },
  {
   "cell_type": "code",
   "execution_count": 23,
   "id": "b0dcc5a5",
   "metadata": {},
   "outputs": [],
   "source": [
    "def Refl (phi):\n",
    "    t = phi * np.pi / 180\n",
    "    c = np.cos (2 * t)\n",
    "    s = np.sin (2 * t)\n",
    "    return np.array ([[c, s, 0], [s, -c, 0], [0, 0, 1]])"
   ]
  },
  {
   "cell_type": "code",
   "execution_count": 24,
   "id": "4e4eed27",
   "metadata": {},
   "outputs": [
    {
     "name": "stdout",
     "output_type": "stream",
     "text": [
      "[[ 0.5        0.8660254  0.       ]\n",
      " [ 0.8660254 -0.5        0.       ]\n",
      " [ 0.         0.         1.       ]]\n"
     ]
    },
    {
     "data": {
      "image/png": "[encoded data removed]",
      "text/plain": [
       "<Figure size 432x288 with 1 Axes>"
      ]
     },
     "metadata": {
      "needs_background": "light"
     },
     "output_type": "display_data"
    }
   ],
   "source": [
    "S = Refl (30)\n",
    "print (S)\n",
    "Plot (P, S @ P)"
   ]
  },
  {
   "cell_type": "markdown",
   "id": "67e317ee",
   "metadata": {},
   "source": [
    "## Weiteres Beispiel"
   ]
  },
  {
   "cell_type": "code",
   "execution_count": 25,
   "id": "e49242c7",
   "metadata": {},
   "outputs": [
    {
     "data": {
      "image/png": "[encoded data removed]",
      "text/plain": [
       "<Figure size 432x288 with 1 Axes>"
      ]
     },
     "metadata": {
      "needs_background": "light"
     },
     "output_type": "display_data"
    }
   ],
   "source": [
    "for phi in np.linspace (0, 360, num = 12, endpoint = False):\n",
    "    Q = Trans (-2.5, -3) @ Rot (phi) @ Trans (15, 0) @ Rot (-phi) @ P\n",
    "    pl.plot (Q [0], Q [1], 'r')\n",
    "    \n",
    "pl.axis ('scaled')\n",
    "pl.grid()"
   ]
  },
  {
   "cell_type": "code",
   "execution_count": null,
   "id": "b840ac83",
   "metadata": {},
   "outputs": [],
   "source": []
  }
 ],
 "metadata": {
  "kernelspec": {
   "display_name": "Python 3",
   "language": "python",
   "name": "python3"
  },
  "language_info": {
   "codemirror_mode": {
    "name": "ipython",
    "version": 3
   },
   "file_extension": ".py",
   "mimetype": "text/x-python",
   "name": "python",
   "nbconvert_exporter": "python",
   "pygments_lexer": "ipython3",
   "version": "3.8.8"
  }
 },
 "nbformat": 4,
 "nbformat_minor": 5
}
