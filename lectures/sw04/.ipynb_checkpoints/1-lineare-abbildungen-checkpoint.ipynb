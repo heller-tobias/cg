{
 "cells": [
  {
   "cell_type": "markdown",
   "id": "15c0b920",
   "metadata": {},
   "source": [
    "# Lineare Abbildungen und Matrizen"
   ]
  },
  {
   "cell_type": "markdown",
   "id": "28776c4b",
   "metadata": {},
   "source": [
    "## Bibliotheken"
   ]
  },
  {
   "cell_type": "markdown",
   "id": "e4e862b6",
   "metadata": {},
   "source": [
    "### importiert"
   ]
  },
  {
   "cell_type": "code",
   "execution_count": 1,
   "id": "adeb0ac1",
   "metadata": {},
   "outputs": [],
   "source": [
    "import numpy as np"
   ]
  },
  {
   "cell_type": "code",
   "execution_count": 2,
   "id": "64d05687",
   "metadata": {},
   "outputs": [],
   "source": [
    "import matplotlib.pyplot as pl"
   ]
  },
  {
   "cell_type": "markdown",
   "id": "190efc5e",
   "metadata": {},
   "source": [
    "### selbst geschrieben"
   ]
  },
  {
   "cell_type": "markdown",
   "id": "8acfe7ce",
   "metadata": {},
   "source": [
    "#### Vektoren definieren"
   ]
  },
  {
   "cell_type": "code",
   "execution_count": 3,
   "id": "4f824cd8",
   "metadata": {},
   "outputs": [],
   "source": [
    "def Vec (x, y):\n",
    "    return np.array ([[x], [y]])"
   ]
  },
  {
   "cell_type": "markdown",
   "id": "e35bc396",
   "metadata": {},
   "source": [
    "#### Vektoren \"aneinanderhängen\""
   ]
  },
  {
   "cell_type": "code",
   "execution_count": 4,
   "id": "f44e9191",
   "metadata": {},
   "outputs": [],
   "source": [
    "def Cat (*v):\n",
    "    return np.concatenate (v, axis = 1)"
   ]
  },
  {
   "cell_type": "markdown",
   "id": "6754b7df",
   "metadata": {},
   "source": [
    "#### Vektoren zeichnen"
   ]
  },
  {
   "cell_type": "code",
   "execution_count": 5,
   "id": "2f8c7005",
   "metadata": {},
   "outputs": [],
   "source": [
    "def PlotVec (v, w, c = 'black'):\n",
    "    d = w - v\n",
    "    pl.quiver (v[0][0], v[1][0], d[0][0], d[1][0], angles = 'xy', scale_units = 'xy', scale = 1, color = c)"
   ]
  },
  {
   "cell_type": "code",
   "execution_count": 6,
   "id": "210f0634",
   "metadata": {},
   "outputs": [],
   "source": [
    "def PlotVec0 (v, c = 'black'):\n",
    "    PlotVec (Vec (0, 0), v, c)"
   ]
  },
  {
   "cell_type": "markdown",
   "id": "1b4f4d58",
   "metadata": {},
   "source": [
    "#### Linien zeichnen"
   ]
  },
  {
   "cell_type": "code",
   "execution_count": 7,
   "id": "3a9e2bf0",
   "metadata": {},
   "outputs": [],
   "source": [
    "def PlotLine (A, x0, y0, x1, y1):\n",
    "    p = np.array ([[x0, x1], [y0, y1]])\n",
    "    q = A @ p\n",
    "    pl.plot (q [0], q [1], 'gray', linestyle = ':')"
   ]
  },
  {
   "cell_type": "code",
   "execution_count": 8,
   "id": "2ea029f5",
   "metadata": {},
   "outputs": [],
   "source": [
    "def PlotGrid (A, xmin, xmax, ymin, ymax):\n",
    "    for x in np.arange (xmin, xmax + 1, 1):\n",
    "        PlotLine (A, x, ymin, x, ymax)\n",
    "    for y in np.arange (ymin, ymax + 1, 1):\n",
    "        PlotLine (A, xmin, y, xmax, y)"
   ]
  },
  {
   "cell_type": "markdown",
   "id": "730661d6",
   "metadata": {},
   "source": [
    "## Lineare Abbildung definieren"
   ]
  },
  {
   "cell_type": "code",
   "execution_count": 9,
   "id": "777f39e6",
   "metadata": {},
   "outputs": [],
   "source": [
    "def LinMap (e1, e2, v):\n",
    "    return v [0] * e1 + v [1] * e2"
   ]
  },
  {
   "cell_type": "markdown",
   "id": "234715b7",
   "metadata": {},
   "source": [
    "## Dreieck zeichnen"
   ]
  },
  {
   "cell_type": "code",
   "execution_count": 11,
   "id": "a58f0a7e",
   "metadata": {},
   "outputs": [],
   "source": [
    "def PlotTriangle (e1, e2, p1, p2, p3):\n",
    "    q1 = LinMap (e1, e2, p1)\n",
    "    q2 = LinMap (e1, e2, p2)\n",
    "    q3 = LinMap (e1, e2, p3)\n",
    "    q = Cat (q1, q2, q3, q1)\n",
    "    pl.plot (q [0], q [1], 'black')\n",
    "    PlotVec0 (e1, 'red')\n",
    "    PlotVec0 (e2, 'red')\n",
    "    PlotVec0 (q1, 'blue')\n",
    "    PlotVec0 (q2, 'blue')\n",
    "    PlotVec0 (q3, 'blue')\n",
    "    pl.axis ('scaled')"
   ]
  },
  {
   "cell_type": "markdown",
   "id": "086d0697",
   "metadata": {},
   "source": [
    "## Urbild"
   ]
  },
  {
   "cell_type": "code",
   "execution_count": 12,
   "id": "7258f3ed",
   "metadata": {},
   "outputs": [
    {
     "data": {
      "image/png": "[encoded data removed]",
      "text/plain": [
       "<Figure size 432x288 with 1 Axes>"
      ]
     },
     "metadata": {
      "needs_background": "light"
     },
     "output_type": "display_data"
    }
   ],
   "source": [
    "e1 = Vec (1, 0)\n",
    "e2 = Vec (0, 1)\n",
    "\n",
    "p1 = Vec (3, 2)\n",
    "p2 = Vec (8, 2)\n",
    "p3 = Vec (4, 5)\n",
    "\n",
    "PlotTriangle (e1, e2, p1, p2, p3)\n",
    "PlotGrid (Cat (e1, e2), 0, 8, 0, 5)"
   ]
  },
  {
   "cell_type": "markdown",
   "id": "b89feb8d",
   "metadata": {},
   "source": [
    "## Bild"
   ]
  },
  {
   "cell_type": "code",
   "execution_count": 12,
   "id": "ba415fce",
   "metadata": {},
   "outputs": [
    {
     "data": {
      "image/png": "[encoded data removed]",
      "text/plain": [
       "<Figure size 432x288 with 1 Axes>"
      ]
     },
     "metadata": {
      "needs_background": "light"
     },
     "output_type": "display_data"
    }
   ],
   "source": [
    "f1 = Vec (2, 1)\n",
    "f2 = Vec (1, 3)\n",
    "\n",
    "# Keine euklidische Abbildung -> Winkel werden anders\n",
    "\n",
    "PlotTriangle (f1, f2, p1, p2, p3)\n",
    "PlotGrid (Cat (f1, f2), -4, 11, -5, 8)"
   ]
  },
  {
   "cell_type": "markdown",
   "id": "4f97acb6",
   "metadata": {},
   "source": [
    "## Lineare Abbildung als Matrix"
   ]
  },
  {
   "cell_type": "markdown",
   "id": "bd3f6910",
   "metadata": {},
   "source": [
    "### Urbild"
   ]
  },
  {
   "cell_type": "code",
   "execution_count": 13,
   "id": "33c96c42",
   "metadata": {},
   "outputs": [
    {
     "name": "stdout",
     "output_type": "stream",
     "text": [
      "[[3]\n",
      " [2]]\n"
     ]
    }
   ],
   "source": [
    "p = p1\n",
    "print (p)"
   ]
  },
  {
   "cell_type": "markdown",
   "id": "4d5015e3",
   "metadata": {},
   "source": [
    "### Urbild als Linearkombination der Einheitsvektoren"
   ]
  },
  {
   "cell_type": "code",
   "execution_count": 14,
   "id": "d472576e",
   "metadata": {},
   "outputs": [
    {
     "name": "stdout",
     "output_type": "stream",
     "text": [
      "[[3]\n",
      " [2]]\n"
     ]
    }
   ],
   "source": [
    "print (p [0] * e1 + p [1] * e2)"
   ]
  },
  {
   "cell_type": "markdown",
   "id": "4a3f0858",
   "metadata": {},
   "source": [
    "### Bild als Linearkombination der transformierten Einheitsvektoren"
   ]
  },
  {
   "cell_type": "code",
   "execution_count": 15,
   "id": "c757d36b",
   "metadata": {},
   "outputs": [
    {
     "name": "stdout",
     "output_type": "stream",
     "text": [
      "[[8]\n",
      " [9]]\n"
     ]
    }
   ],
   "source": [
    "q = p [0] * f1 + p [1] * f2\n",
    "print (q)"
   ]
  },
  {
   "cell_type": "markdown",
   "id": "0eaa8506",
   "metadata": {},
   "source": [
    "### Abbildung als Matrix-Vektor-Multiplikation"
   ]
  },
  {
   "cell_type": "markdown",
   "id": "fb47019e",
   "metadata": {},
   "source": [
    "#### Matrix"
   ]
  },
  {
   "cell_type": "code",
   "execution_count": 16,
   "id": "d4a367f3",
   "metadata": {},
   "outputs": [
    {
     "name": "stdout",
     "output_type": "stream",
     "text": [
      "[[2 1]\n",
      " [1 3]]\n"
     ]
    }
   ],
   "source": [
    "A = Cat (f1, f2)\n",
    "print (A)"
   ]
  },
  {
   "cell_type": "markdown",
   "id": "397be3b4",
   "metadata": {},
   "source": [
    "#### Urbild-Vektor"
   ]
  },
  {
   "cell_type": "code",
   "execution_count": 17,
   "id": "eae99e92",
   "metadata": {},
   "outputs": [
    {
     "name": "stdout",
     "output_type": "stream",
     "text": [
      "[[3]\n",
      " [2]]\n"
     ]
    }
   ],
   "source": [
    "print (p)"
   ]
  },
  {
   "cell_type": "markdown",
   "id": "2722a0ef",
   "metadata": {},
   "source": [
    "#### Komponenten des Bildes als Skalarprodukte"
   ]
  },
  {
   "cell_type": "markdown",
   "id": "bd064856",
   "metadata": {},
   "source": [
    "##### Skalarprodukt aus erster Zeile der Matrix und Urbild-Vektor"
   ]
  },
  {
   "cell_type": "code",
   "execution_count": 18,
   "id": "49bd9a17",
   "metadata": {},
   "outputs": [
    {
     "name": "stdout",
     "output_type": "stream",
     "text": [
      "[2 1]\n"
     ]
    }
   ],
   "source": [
    "print (A [0])"
   ]
  },
  {
   "cell_type": "code",
   "execution_count": 19,
   "id": "53f68415",
   "metadata": {},
   "outputs": [
    {
     "name": "stdout",
     "output_type": "stream",
     "text": [
      "[[3]\n",
      " [2]]\n"
     ]
    }
   ],
   "source": [
    "print (p)"
   ]
  },
  {
   "cell_type": "code",
   "execution_count": 20,
   "id": "242e2764",
   "metadata": {},
   "outputs": [
    {
     "name": "stdout",
     "output_type": "stream",
     "text": [
      "[8]\n"
     ]
    }
   ],
   "source": [
    "print (np.dot (A [0], p))"
   ]
  },
  {
   "cell_type": "markdown",
   "id": "3e92bd34",
   "metadata": {},
   "source": [
    "##### Skalarprodukt aus zweiter Zeile der Matrix und Urbild-Vektor"
   ]
  },
  {
   "cell_type": "code",
   "execution_count": 21,
   "id": "0c0b5bb1",
   "metadata": {},
   "outputs": [
    {
     "name": "stdout",
     "output_type": "stream",
     "text": [
      "[1 3]\n"
     ]
    }
   ],
   "source": [
    "print (A [1])"
   ]
  },
  {
   "cell_type": "code",
   "execution_count": 22,
   "id": "68eb1021",
   "metadata": {},
   "outputs": [
    {
     "name": "stdout",
     "output_type": "stream",
     "text": [
      "[[3]\n",
      " [2]]\n"
     ]
    }
   ],
   "source": [
    "print (p)"
   ]
  },
  {
   "cell_type": "code",
   "execution_count": 23,
   "id": "78e19688",
   "metadata": {},
   "outputs": [
    {
     "name": "stdout",
     "output_type": "stream",
     "text": [
      "[9]\n"
     ]
    }
   ],
   "source": [
    "print (np.dot (A [1], p))"
   ]
  },
  {
   "cell_type": "markdown",
   "id": "b0bf3cd5",
   "metadata": {},
   "source": [
    "##### Matrix-Vektor-Multiplikation"
   ]
  },
  {
   "cell_type": "code",
   "execution_count": 24,
   "id": "efb149ce",
   "metadata": {},
   "outputs": [
    {
     "name": "stdout",
     "output_type": "stream",
     "text": [
      "[[8]\n",
      " [9]]\n"
     ]
    }
   ],
   "source": [
    "print (A @ p)"
   ]
  }
 ],
 "metadata": {
  "kernelspec": {
   "display_name": "Python 3",
   "language": "python",
   "name": "python3"
  },
  "language_info": {
   "codemirror_mode": {
    "name": "ipython",
    "version": 3
   },
   "file_extension": ".py",
   "mimetype": "text/x-python",
   "name": "python",
   "nbconvert_exporter": "python",
   "pygments_lexer": "ipython3",
   "version": "3.8.8"
  }
 },
 "nbformat": 4,
 "nbformat_minor": 5
}
