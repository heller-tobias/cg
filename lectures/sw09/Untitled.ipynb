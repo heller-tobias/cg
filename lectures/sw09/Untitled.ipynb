{
 "cells": [
  {
   "cell_type": "code",
   "execution_count": 1,
   "id": "1d890cc1",
   "metadata": {},
   "outputs": [],
   "source": [
    "import numpy as np"
   ]
  },
  {
   "cell_type": "code",
   "execution_count": 5,
   "id": "fbea51a0",
   "metadata": {},
   "outputs": [
    {
     "name": "stdout",
     "output_type": "stream",
     "text": [
      "t=0.0, p_t[0. 0.]\n",
      "t=0.1, p_t[ 0.63 -0.81]\n",
      "t=0.2, p_t[ 1.32 -0.96]\n",
      "t=0.3, p_t[ 2.07 -0.63]\n",
      "t=0.4, p_t[2.88 0.  ]\n",
      "t=0.5, p_t[3.75 0.75]\n",
      "t=0.6, p_t[4.68 1.44]\n",
      "t=0.7, p_t[5.67 1.89]\n",
      "t=0.8, p_t[6.72 1.92]\n",
      "t=0.9, p_t[7.83 1.35]\n"
     ]
    }
   ],
   "source": [
    "for i in range(1000):\n",
    "    t = i / 1000\n",
    "    \n",
    "    p_t = 3 * (1 - t)**2 * t * np.array([2, -4]) + 3 * (1-t) * t**2 * np.array([5,6]) + t**3 * np.array([9,0])\n",
    "    \n",
    "    if i % 100 == 0:\n",
    "        print(f\"t={t}, p_t{p_t}\")"
   ]
  }
 ],
 "metadata": {
  "kernelspec": {
   "display_name": "Python 3",
   "language": "python",
   "name": "python3"
  },
  "language_info": {
   "codemirror_mode": {
    "name": "ipython",
    "version": 3
   },
   "file_extension": ".py",
   "mimetype": "text/x-python",
   "name": "python",
   "nbconvert_exporter": "python",
   "pygments_lexer": "ipython3",
   "version": "3.8.8"
  }
 },
 "nbformat": 4,
 "nbformat_minor": 5
}
