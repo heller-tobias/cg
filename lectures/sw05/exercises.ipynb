{
 "cells": [
  {
   "cell_type": "code",
   "execution_count": 4,
   "id": "7bc8ed9b",
   "metadata": {},
   "outputs": [],
   "source": [
    "import numpy as np\n",
    "from math import sqrt"
   ]
  },
  {
   "cell_type": "code",
   "execution_count": 6,
   "id": "d45485f0",
   "metadata": {},
   "outputs": [],
   "source": [
    "transf = np.array([[1/sqrt(2), 0, 1/sqrt(2), 0],[0, 1,0,0],[-1/sqrt(2), 0, 1/sqrt(2), 0],[0,0,0,1]])"
   ]
  },
  {
   "cell_type": "code",
   "execution_count": 9,
   "id": "85a7b07b",
   "metadata": {},
   "outputs": [],
   "source": [
    "A = [[0, 0],[0,0],[0,1],[1,1]]"
   ]
  },
  {
   "cell_type": "code",
   "execution_count": 10,
   "id": "0728f8fb",
   "metadata": {},
   "outputs": [
    {
     "data": {
      "text/plain": [
       "array([[0.        , 0.70710678],\n",
       "       [0.        , 0.        ],\n",
       "       [0.        , 0.70710678],\n",
       "       [1.        , 1.        ]])"
      ]
     },
     "execution_count": 10,
     "metadata": {},
     "output_type": "execute_result"
    }
   ],
   "source": [
    "transf @ A"
   ]
  }
 ],
 "metadata": {
  "kernelspec": {
   "display_name": "Python 3",
   "language": "python",
   "name": "python3"
  },
  "language_info": {
   "codemirror_mode": {
    "name": "ipython",
    "version": 3
   },
   "file_extension": ".py",
   "mimetype": "text/x-python",
   "name": "python",
   "nbconvert_exporter": "python",
   "pygments_lexer": "ipython3",
   "version": "3.8.8"
  }
 },
 "nbformat": 4,
 "nbformat_minor": 5
}
